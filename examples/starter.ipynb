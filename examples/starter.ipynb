{
 "cells": [
  {
   "cell_type": "code",
   "execution_count": 1,
   "id": "b34ae35c-c3cb-4b98-8484-e242554dd49d",
   "metadata": {
    "editable": true,
    "slideshow": {
     "slide_type": ""
    },
    "tags": []
   },
   "outputs": [],
   "source": [
    "%load_ext dotenv\n",
    "%dotenv\n",
    "\n",
    "# We have an `.env` file that specifies the OPENAI_API_KEY and OPENAI_ORGANIZATION\n",
    "# You might need to run \"pip install python-dotenv\"."
   ]
  },
  {
   "cell_type": "code",
   "execution_count": 2,
   "id": "305f5dfc-d2e5-44eb-b6b5-4850e86274f4",
   "metadata": {
    "editable": true,
    "slideshow": {
     "slide_type": ""
    },
    "tags": []
   },
   "outputs": [],
   "source": [
    "%load_ext chapyter"
   ]
  },
  {
   "cell_type": "code",
   "execution_count": 3,
   "id": "3b534dc4-5684-45c2-ac00-253bd16d445e",
   "metadata": {
    "ChapyterCell": {
     "cellType": "original",
     "linkedCellId": "6d8938e3-e56f-47dd-b98c-a9c504eef285"
    },
    "editable": true,
    "slideshow": {
     "slide_type": ""
    },
    "tags": []
   },
   "outputs": [],
   "source": [
    "%%chat \n",
    "list all the files in the current directory"
   ]
  },
  {
   "cell_type": "code",
   "execution_count": 4,
   "id": "6d8938e3-e56f-47dd-b98c-a9c504eef285",
   "metadata": {
    "ChapyterCell": {
     "cellType": "generated",
     "linkedCellId": "3b534dc4-5684-45c2-ac00-253bd16d445e"
    },
    "jupyter": {
     "source_hidden": true
    }
   },
   "outputs": [
    {
     "name": "stdout",
     "output_type": "stream",
     "text": [
      "['papers', '.env', '.ipynb_checkpoints', 'starter.ipynb']\n"
     ]
    }
   ],
   "source": [
    "# Assistant:\n",
    "# Sure, here is the Python code to list all the files in the current directory:\n",
    "import os\n",
    "\n",
    "files = os.listdir('.')\n",
    "print(files)"
   ]
  },
  {
   "cell_type": "code",
   "execution_count": 5,
   "id": "1f683669-f5eb-4679-bc37-e020fdc3792e",
   "metadata": {
    "ChapyterCell": {
     "cellType": "original",
     "linkedCellId": "aea3664c-db33-46ff-a5c6-04a53c96b9ba"
    },
    "editable": true,
    "slideshow": {
     "slide_type": ""
    },
    "tags": []
   },
   "outputs": [],
   "source": [
    "%%chat \n",
    "\n",
    "find the files in the current directory that has the longest file name "
   ]
  },
  {
   "cell_type": "code",
   "execution_count": 6,
   "id": "aea3664c-db33-46ff-a5c6-04a53c96b9ba",
   "metadata": {
    "ChapyterCell": {
     "cellType": "generated",
     "linkedCellId": "1f683669-f5eb-4679-bc37-e020fdc3792e"
    },
    "jupyter": {
     "source_hidden": true
    }
   },
   "outputs": [
    {
     "name": "stdout",
     "output_type": "stream",
     "text": [
      ".ipynb_checkpoints\n"
     ]
    }
   ],
   "source": [
    "# Assistant:\n",
    "# Sure, here is the Python code to find the file with the longest name in the current directory.\n",
    "import os\n",
    "\n",
    "# Get all files in current directory\n",
    "files = os.listdir('.')\n",
    "\n",
    "# Find the file with the longest name\n",
    "longest_file = max(files, key=len)\n",
    "\n",
    "print(longest_file)\n",
    "#This code will print the name of the file with the longest name in the current directory."
   ]
  },
  {
   "cell_type": "code",
   "execution_count": 7,
   "id": "aefd461f-ce34-4136-a38e-83eaad7e1689",
   "metadata": {
    "ChapyterCell": {
     "cellType": "original",
     "linkedCellId": "54809666-a786-483c-b1d7-efba6c9d2041"
    },
    "editable": true,
    "slideshow": {
     "slide_type": ""
    },
    "tags": []
   },
   "outputs": [],
   "source": [
    "%%chat \n",
    "\n",
    "Generate a dictionary that groups the files in the current folder based on their types"
   ]
  },
  {
   "cell_type": "code",
   "execution_count": 8,
   "id": "54809666-a786-483c-b1d7-efba6c9d2041",
   "metadata": {
    "ChapyterCell": {
     "cellType": "generated",
     "linkedCellId": "aefd461f-ce34-4136-a38e-83eaad7e1689"
    },
    "jupyter": {
     "source_hidden": true
    }
   },
   "outputs": [
    {
     "name": "stdout",
     "output_type": "stream",
     "text": [
      "{'': ['papers', '.env', '.ipynb_checkpoints'], '.ipynb': ['starter.ipynb']}\n"
     ]
    }
   ],
   "source": [
    "# Assistant:\n",
    "# Sure, here is a Python script that does that:\n",
    "import os\n",
    "\n",
    "# Get all files in current directory\n",
    "files = os.listdir('.')\n",
    "\n",
    "# Initialize an empty dictionary to store the file types and names\n",
    "file_dict = {}\n",
    "\n",
    "# Loop through each file\n",
    "for file in files:\n",
    "    # Get the file extension\n",
    "    file_type = os.path.splitext(file)[1]\n",
    "    \n",
    "    # If the file type is not in the dictionary, add it\n",
    "    if file_type not in file_dict:\n",
    "        file_dict[file_type] = []\n",
    "    \n",
    "    # Add the file name to the list of files for this type\n",
    "    file_dict[file_type].append(file)\n",
    "\n",
    "print(file_dict)\n",
    "#This script will print a dictionary where the keys are file extensions (like '.txt', '.py', etc.) and the values are lists of file names with that extension."
   ]
  }
 ],
 "metadata": {
  "kernelspec": {
   "display_name": "conda-base",
   "language": "python",
   "name": "base"
  },
  "language_info": {
   "codemirror_mode": {
    "name": "ipython",
    "version": 3
   },
   "file_extension": ".py",
   "mimetype": "text/x-python",
   "name": "python",
   "nbconvert_exporter": "python",
   "pygments_lexer": "ipython3",
   "version": "3.8.11"
  }
 },
 "nbformat": 4,
 "nbformat_minor": 5
}
