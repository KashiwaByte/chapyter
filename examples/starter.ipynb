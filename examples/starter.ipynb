{
 "cells": [
  {
   "cell_type": "code",
   "execution_count": 1,
   "id": "b34ae35c-c3cb-4b98-8484-e242554dd49d",
   "metadata": {
    "editable": true,
    "slideshow": {
     "slide_type": ""
    },
    "tags": []
   },
   "outputs": [],
   "source": [
    "%load_ext dotenv\n",
    "%dotenv\n",
    "\n",
    "# We have an `.env` file that specifies the OPENAI_API_KEY and OPENAI_ORGANIZATION\n",
    "# You might need to run \"pip install python-dotenv\"."
   ]
  },
  {
   "cell_type": "markdown",
   "id": "c1271f63-22c4-4151-83ae-0ea36be59c17",
   "metadata": {},
   "source": [
    "### The Magic Command "
   ]
  },
  {
   "cell_type": "code",
   "execution_count": 2,
   "id": "305f5dfc-d2e5-44eb-b6b5-4850e86274f4",
   "metadata": {
    "editable": true,
    "slideshow": {
     "slide_type": ""
    },
    "tags": []
   },
   "outputs": [],
   "source": [
    "%load_ext chapyter"
   ]
  },
  {
   "cell_type": "markdown",
   "id": "bb8888ac-5bec-4c62-9de6-21d45ce89ff1",
   "metadata": {},
   "source": [
    "### `%%chat`: start coding in natural language"
   ]
  },
  {
   "cell_type": "code",
   "execution_count": 3,
   "id": "effc4a91-fc5e-42c9-b576-e0c37ecd4478",
   "metadata": {
    "ChapyterCell": {
     "cellType": "original",
     "linkedCellId": "9b6e14e7-ed6b-4070-9374-34592c8a6d40"
    }
   },
   "outputs": [],
   "source": [
    "%%chat \n",
    "list all the files in the current directory"
   ]
  },
  {
   "cell_type": "code",
   "execution_count": 8,
   "id": "9b6e14e7-ed6b-4070-9374-34592c8a6d40",
   "metadata": {
    "ChapyterCell": {
     "cellType": "generated",
     "linkedCellId": "effc4a91-fc5e-42c9-b576-e0c37ecd4478"
    },
    "jupyter": {
     "source_hidden": true
    }
   },
   "outputs": [
    {
     "name": "stdout",
     "output_type": "stream",
     "text": [
      "['test', '.env', 'starter-Copy2.ipynb', '.ipynb_checkpoints', 'starter.ipynb', 'starter-Copy1.ipynb']\n"
     ]
    }
   ],
   "source": [
    "# Assistant Code for Cell [3]:\n",
    "# Sure, here is the Python code to list all the files in the current directory:\n",
    "import os\n",
    "\n",
    "files = os.listdir('.')\n",
    "print(files)"
   ]
  },
  {
   "cell_type": "code",
   "execution_count": 4,
   "id": "29533815-5d55-4281-8446-f2e1b810b040",
   "metadata": {
    "ChapyterCell": {
     "cellType": "original",
     "linkedCellId": "7323fa6b-286e-47e3-8028-42d4919dedd4"
    }
   },
   "outputs": [],
   "source": [
    "%%chat \n",
    "\n",
    "find the files in the current directory that has the longest file name "
   ]
  },
  {
   "cell_type": "code",
   "execution_count": 9,
   "id": "7323fa6b-286e-47e3-8028-42d4919dedd4",
   "metadata": {
    "ChapyterCell": {
     "cellType": "generated",
     "linkedCellId": "29533815-5d55-4281-8446-f2e1b810b040"
    },
    "jupyter": {
     "source_hidden": true
    }
   },
   "outputs": [
    {
     "name": "stdout",
     "output_type": "stream",
     "text": [
      "starter-Copy2.ipynb\n"
     ]
    }
   ],
   "source": [
    "# Assistant Code for Cell [4]:\n",
    "# Sure, here is the Python code to find the file with the longest name in the current directory.\n",
    "import os\n",
    "\n",
    "# Get all files in current directory\n",
    "files = os.listdir('.')\n",
    "\n",
    "# Find the file with the longest name\n",
    "longest_file = max(files, key=len)\n",
    "\n",
    "print(longest_file)\n",
    "# This code will print the name of the file with the longest name in the current directory."
   ]
  },
  {
   "cell_type": "code",
   "execution_count": 5,
   "id": "7f055c4f-f714-4620-9e1e-d629ab8a4d87",
   "metadata": {
    "ChapyterCell": {
     "cellType": "original",
     "linkedCellId": "c3d5e4ac-faf9-4a16-a8b8-a4f908358f48"
    }
   },
   "outputs": [],
   "source": [
    "%%chat \n",
    "\n",
    "Generate a dictionary that groups the files in the current folder based on their types"
   ]
  },
  {
   "cell_type": "code",
   "execution_count": 10,
   "id": "c3d5e4ac-faf9-4a16-a8b8-a4f908358f48",
   "metadata": {
    "ChapyterCell": {
     "cellType": "generated",
     "linkedCellId": "7f055c4f-f714-4620-9e1e-d629ab8a4d87"
    },
    "jupyter": {
     "source_hidden": true
    }
   },
   "outputs": [
    {
     "name": "stdout",
     "output_type": "stream",
     "text": [
      "{'': ['test', '.env', '.ipynb_checkpoints'], '.ipynb': ['starter-Copy2.ipynb', 'starter.ipynb', 'starter-Copy1.ipynb']}\n"
     ]
    }
   ],
   "source": [
    "# Assistant Code for Cell [5]:\n",
    "# Sure, here is a Python script that does that:\n",
    "import os\n",
    "\n",
    "# Get all files in current directory\n",
    "files = os.listdir('.')\n",
    "\n",
    "# Initialize an empty dictionary to store the file types and names\n",
    "file_dict = {}\n",
    "\n",
    "# Loop through each file\n",
    "for file in files:\n",
    "    # Get the file extension\n",
    "    file_type = os.path.splitext(file)[1]\n",
    "    \n",
    "    # If the file type is not in the dictionary, add it\n",
    "    if file_type not in file_dict:\n",
    "        file_dict[file_type] = []\n",
    "    \n",
    "    # Add the file name to the list of files for this type\n",
    "    file_dict[file_type].append(file)\n",
    "\n",
    "print(file_dict)\n",
    "# This script will print a dictionary where the keys are file extensions (like '.txt', '.py', etc.) and the values are lists of file names with that extension."
   ]
  },
  {
   "cell_type": "markdown",
   "id": "8a696eca-5a97-4138-9acc-518db632b5c5",
   "metadata": {},
   "source": [
    "### `%%chat -h` will add execution history into the prompt "
   ]
  },
  {
   "cell_type": "code",
   "execution_count": 11,
   "id": "57e0a283-95d9-410a-bcdb-9efde7d252b2",
   "metadata": {
    "ChapyterCell": {
     "cellType": "original",
     "linkedCellId": "a3c723f8-ee8c-4f82-a695-b71eada6ffa8"
    }
   },
   "outputs": [],
   "source": [
    "%%chat -h \n",
    "\n",
    "Define functions for the code above:"
   ]
  },
  {
   "cell_type": "code",
   "execution_count": 12,
   "id": "a3c723f8-ee8c-4f82-a695-b71eada6ffa8",
   "metadata": {
    "ChapyterCell": {
     "cellType": "generated",
     "linkedCellId": "57e0a283-95d9-410a-bcdb-9efde7d252b2"
    },
    "jupyter": {
     "source_hidden": true
    }
   },
   "outputs": [
    {
     "name": "stdout",
     "output_type": "stream",
     "text": [
      "['test', '.env', 'starter-Copy2.ipynb', '.ipynb_checkpoints', 'starter.ipynb', 'starter-Copy1.ipynb']\n",
      "starter-Copy2.ipynb\n",
      "{'': ['test', '.env', '.ipynb_checkpoints'], '.ipynb': ['starter-Copy2.ipynb', 'starter.ipynb', 'starter-Copy1.ipynb']}\n"
     ]
    }
   ],
   "source": [
    "# Assistant Code for Cell [11]:\n",
    "# Sure, here are the functions for the code above:\n",
    "import os\n",
    "\n",
    "def list_files():\n",
    "    files = os.listdir('.')\n",
    "    return files\n",
    "\n",
    "def find_longest_file():\n",
    "    files = list_files()\n",
    "    longest_file = max(files, key=len)\n",
    "    return longest_file\n",
    "\n",
    "def group_files_by_type():\n",
    "    files = list_files()\n",
    "    file_dict = {}\n",
    "    for file in files:\n",
    "        file_type = os.path.splitext(file)[1]\n",
    "        if file_type not in file_dict:\n",
    "            file_dict[file_type] = []\n",
    "        file_dict[file_type].append(file)\n",
    "    return file_dict\n",
    "# You can call these functions like this:\n",
    "print(list_files())\n",
    "print(find_longest_file())\n",
    "print(group_files_by_type())\n",
    "# This will print the list of files, the file with the longest name, and the dictionary of files grouped by type, respectively."
   ]
  },
  {
   "cell_type": "markdown",
   "id": "689298e8-7070-43c1-927a-a5521b2ee08d",
   "metadata": {},
   "source": [
    "### `%%chat -s` or `%%chat --safe` will invoke safe mode that won't execute the cells "
   ]
  },
  {
   "cell_type": "code",
   "execution_count": 13,
   "id": "f353789b-c8e7-467c-bce6-1ed02eb33fe9",
   "metadata": {
    "ChapyterCell": {
     "cellType": "original",
     "linkedCellId": "ff53fbb3-99dd-4d18-b663-6b6627b3c07c"
    }
   },
   "outputs": [],
   "source": [
    "%%chat -s \n",
    "\n",
    "Generate a dictionary that groups the files in the current folder based on their types"
   ]
  },
  {
   "cell_type": "code",
   "execution_count": null,
   "id": "ff53fbb3-99dd-4d18-b663-6b6627b3c07c",
   "metadata": {
    "ChapyterCell": {
     "cellType": "generated",
     "linkedCellId": "f353789b-c8e7-467c-bce6-1ed02eb33fe9"
    }
   },
   "outputs": [],
   "source": [
    "# Assistant Code for Cell [13]:\n",
    "# Sure, here is a Python script that does that:\n",
    "import os\n",
    "\n",
    "# Get all files in current directory\n",
    "files = os.listdir('.')\n",
    "\n",
    "# Initialize an empty dictionary to store the file types and names\n",
    "file_dict = {}\n",
    "\n",
    "# Loop through each file\n",
    "for file in files:\n",
    "    # Get the file extension\n",
    "    file_type = os.path.splitext(file)[1]\n",
    "    \n",
    "    # If the file type is not in the dictionary, add it\n",
    "    if file_type not in file_dict:\n",
    "        file_dict[file_type] = []\n",
    "    \n",
    "    # Add the file name to the list of files for this type\n",
    "    file_dict[file_type].append(file)\n",
    "\n",
    "print(file_dict)\n",
    "# This script will print a dictionary where the keys are file extensions (like '.txt', '.py', etc.) and the values are lists of file names with that extension."
   ]
  }
 ],
 "metadata": {
  "kernelspec": {
   "display_name": "extension",
   "language": "python",
   "name": "extension"
  },
  "language_info": {
   "codemirror_mode": {
    "name": "ipython",
    "version": 3
   },
   "file_extension": ".py",
   "mimetype": "text/x-python",
   "name": "python",
   "nbconvert_exporter": "python",
   "pygments_lexer": "ipython3",
   "version": "3.11.4"
  }
 },
 "nbformat": 4,
 "nbformat_minor": 5
}
