{
 "cells": [
  {
   "cell_type": "code",
   "execution_count": 115,
   "id": "b34ae35c-c3cb-4b98-8484-e242554dd49d",
   "metadata": {
    "editable": true,
    "slideshow": {
     "slide_type": ""
    },
    "tags": []
   },
   "outputs": [
    {
     "name": "stdout",
     "output_type": "stream",
     "text": [
      "The dotenv extension is already loaded. To reload it, use:\n",
      "  %reload_ext dotenv\n"
     ]
    }
   ],
   "source": [
    "%load_ext dotenv\n",
    "%dotenv\n",
    "\n",
    "# We have an `.env` file that specifies the OPENAI_API_KEY and OPENAI_ORGANIZATION\n",
    "# You might need to run \"pip install python-dotenv\"."
   ]
  },
  {
   "cell_type": "code",
   "execution_count": 116,
   "id": "305f5dfc-d2e5-44eb-b6b5-4850e86274f4",
   "metadata": {
    "editable": true,
    "slideshow": {
     "slide_type": ""
    },
    "tags": []
   },
   "outputs": [
    {
     "name": "stdout",
     "output_type": "stream",
     "text": [
      "The chapyter extension is already loaded. To reload it, use:\n",
      "  %reload_ext chapyter\n"
     ]
    }
   ],
   "source": [
    "%load_ext chapyter"
   ]
  },
  {
   "cell_type": "code",
   "execution_count": 117,
   "id": "effc4a91-fc5e-42c9-b576-e0c37ecd4478",
   "metadata": {
    "ChapyterCell": {
     "cellType": "original",
     "linkedCellId": "6a6c00df-45b2-4ee0-ae98-f4be2063dd1a"
    }
   },
   "outputs": [],
   "source": [
    "%%chat \n",
    "list all the files in the current directory"
   ]
  },
  {
   "cell_type": "code",
   "execution_count": 123,
   "id": "6a6c00df-45b2-4ee0-ae98-f4be2063dd1a",
   "metadata": {
    "ChapyterCell": {
     "cellType": "generated",
     "linkedCellId": "effc4a91-fc5e-42c9-b576-e0c37ecd4478"
    },
    "jupyter": {
     "source_hidden": true
    }
   },
   "outputs": [
    {
     "name": "stdout",
     "output_type": "stream",
     "text": [
      "['test', '.env', '.ipynb_checkpoints', 'starter.ipynb']\n"
     ]
    }
   ],
   "source": [
    "# Assistant Code for Cell [117]:\n",
    "# Sure, here is the Python code to list all the files in the current directory:\n",
    "import os\n",
    "\n",
    "files = os.listdir('.')\n",
    "print(files)"
   ]
  },
  {
   "cell_type": "code",
   "execution_count": 119,
   "id": "29533815-5d55-4281-8446-f2e1b810b040",
   "metadata": {
    "ChapyterCell": {
     "cellType": "original",
     "linkedCellId": "732c609c-83d6-42cd-9d94-778057602379"
    }
   },
   "outputs": [],
   "source": [
    "%%chat \n",
    "\n",
    "find the files in the current directory that has the longest file name "
   ]
  },
  {
   "cell_type": "code",
   "execution_count": 124,
   "id": "732c609c-83d6-42cd-9d94-778057602379",
   "metadata": {
    "ChapyterCell": {
     "cellType": "generated",
     "linkedCellId": "29533815-5d55-4281-8446-f2e1b810b040"
    },
    "jupyter": {
     "source_hidden": true
    }
   },
   "outputs": [
    {
     "name": "stdout",
     "output_type": "stream",
     "text": [
      ".ipynb_checkpoints\n"
     ]
    }
   ],
   "source": [
    "# Assistant Code for Cell [119]:\n",
    "# Sure, here is the Python code to find the file with the longest name in the current directory.\n",
    "import os\n",
    "\n",
    "# Get all files in current directory\n",
    "files = os.listdir('.')\n",
    "\n",
    "# Find the file with the longest name\n",
    "longest_file = max(files, key=len)\n",
    "\n",
    "print(longest_file)\n",
    "#This code will print the name of the file with the longest name in the current directory."
   ]
  },
  {
   "cell_type": "code",
   "execution_count": 126,
   "id": "7f055c4f-f714-4620-9e1e-d629ab8a4d87",
   "metadata": {
    "ChapyterCell": {
     "cellType": "original",
     "linkedCellId": "9b83095f-4647-4cff-8b01-f9dbe9b0923a"
    }
   },
   "outputs": [],
   "source": [
    "%%chat \n",
    "\n",
    "Generate a dictionary that groups the files in the current folder based on their types"
   ]
  },
  {
   "cell_type": "code",
   "execution_count": null,
   "id": "9b83095f-4647-4cff-8b01-f9dbe9b0923a",
   "metadata": {
    "ChapyterCell": {
     "cellType": "generated",
     "linkedCellId": "7f055c4f-f714-4620-9e1e-d629ab8a4d87"
    },
    "jupyter": {
     "source_hidden": true
    }
   },
   "outputs": [],
   "source": [
    "# Assistant Code for Cell [126]:\n",
    "# Sure, here is a Python script that does that:\n",
    "import os\n",
    "\n",
    "# Get all files in current directory\n",
    "files = os.listdir('.')\n",
    "\n",
    "# Initialize an empty dictionary to store the file types and names\n",
    "file_dict = {}\n",
    "\n",
    "# Loop through each file\n",
    "for file in files:\n",
    "    # Get the file extension\n",
    "    file_type = os.path.splitext(file)[1]\n",
    "    \n",
    "    # If the file type is not in the dictionary, add it\n",
    "    if file_type not in file_dict:\n",
    "        file_dict[file_type] = []\n",
    "    \n",
    "    # Add the file name to the list of files for this type\n",
    "    file_dict[file_type].append(file)\n",
    "\n",
    "print(file_dict)\n",
    "#This script will print a dictionary where the keys are file extensions (like '.txt', '.py', etc.) and the values are lists of file names with that extension."
   ]
  },
  {
   "cell_type": "code",
   "execution_count": null,
   "id": "57e0a283-95d9-410a-bcdb-9efde7d252b2",
   "metadata": {},
   "outputs": [],
   "source": []
  },
  {
   "cell_type": "code",
   "execution_count": null,
   "id": "d659b94a-30d9-45a1-98d0-c449b403e008",
   "metadata": {
    "ChapyterCell": {
     "cellType": "original",
     "linkedCellId": "ae359465-2a25-4d5d-a926-32247e0c96c2"
    }
   },
   "outputs": [],
   "source": []
  },
  {
   "cell_type": "code",
   "execution_count": null,
   "id": "9dc8a7e0-cdf0-4486-bfa4-7e9d66e4d854",
   "metadata": {},
   "outputs": [],
   "source": []
  }
 ],
 "metadata": {
  "kernelspec": {
   "display_name": "extension",
   "language": "python",
   "name": "extension"
  },
  "language_info": {
   "codemirror_mode": {
    "name": "ipython",
    "version": 3
   },
   "file_extension": ".py",
   "mimetype": "text/x-python",
   "name": "python",
   "nbconvert_exporter": "python",
   "pygments_lexer": "ipython3",
   "version": "3.11.4"
  }
 },
 "nbformat": 4,
 "nbformat_minor": 5
}
